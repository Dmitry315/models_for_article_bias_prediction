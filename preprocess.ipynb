{
 "cells": [
  {
   "cell_type": "code",
   "execution_count": 1,
   "metadata": {},
   "outputs": [
    {
     "name": "stdout",
     "output_type": "stream",
     "text": [
      "fatal: destination path 'Article-Bias-Prediction' already exists and is not an empty directory.\n"
     ]
    }
   ],
   "source": [
    "! git clone https://github.com/ramybaly/Article-Bias-Prediction"
   ]
  },
  {
   "cell_type": "code",
   "execution_count": 2,
   "metadata": {},
   "outputs": [],
   "source": [
    "import pandas as pd\n",
    "import os\n",
    "import json\n",
    "from tqdm import tqdm"
   ]
  },
  {
   "cell_type": "code",
   "execution_count": 3,
   "metadata": {},
   "outputs": [],
   "source": [
    "raw_ds_path = './Article-Bias-Prediction/data/jsons'\n",
    "json_files = os.listdir(raw_ds_path)"
   ]
  },
  {
   "cell_type": "code",
   "execution_count": 40,
   "metadata": {},
   "outputs": [
    {
     "name": "stderr",
     "output_type": "stream",
     "text": [
      "100%|██████████| 37554/37554 [08:19<00:00, 75.24it/s] \n"
     ]
    }
   ],
   "source": [
    "df = pd.DataFrame()\n",
    "for file_path in tqdm(json_files):\n",
    "  with open(raw_ds_path + '/' + file_path) as f:\n",
    "    n = json.load(f)\n",
    "  i = n['ID']\n",
    "  for feature in [f for f in n.keys() if f not in ['ID']]:\n",
    "    df.loc[i, feature] = n[feature]\n",
    "\n",
    "df.head()\n",
    "df.index.name = 'id'"
   ]
  },
  {
   "cell_type": "code",
   "execution_count": 44,
   "metadata": {},
   "outputs": [
    {
     "data": {
      "text/plain": [
       "count                               37\n",
       "mean     2018-01-12 22:03:14.594594560\n",
       "min                2016-07-11 00:00:00\n",
       "25%                2017-04-04 00:00:00\n",
       "50%                2018-01-21 00:00:00\n",
       "75%                2018-09-05 00:00:00\n",
       "max                2019-08-19 00:00:00\n",
       "Name: date, dtype: object"
      ]
     },
     "execution_count": 44,
     "metadata": {},
     "output_type": "execute_result"
    }
   ],
   "source": [
    "pd.to_datetime(df['date'], format='%m/%d/%y', errors=\"coerce\").describe()"
   ]
  },
  {
   "cell_type": "code",
   "execution_count": 45,
   "metadata": {},
   "outputs": [
    {
     "data": {
      "text/plain": [
       "count                            33108\n",
       "mean     2016-10-29 04:09:49.778905088\n",
       "min                2001-10-23 00:00:00\n",
       "25%                2014-09-17 00:00:00\n",
       "50%                2017-01-10 00:00:00\n",
       "75%                2019-01-25 00:00:00\n",
       "max                2050-09-30 00:00:00\n",
       "Name: date, dtype: object"
      ]
     },
     "execution_count": 45,
     "metadata": {},
     "output_type": "execute_result"
    }
   ],
   "source": [
    "pd.to_datetime(df['date'], format='%Y-%m-%d', errors=\"coerce\").describe()"
   ]
  },
  {
   "cell_type": "code",
   "execution_count": 48,
   "metadata": {},
   "outputs": [],
   "source": [
    "df.to_csv('./dataset/polarization_ds.csv')"
   ]
  },
  {
   "cell_type": "code",
   "execution_count": 49,
   "metadata": {},
   "outputs": [],
   "source": [
    "train_media_split = pd.read_csv('./Article-Bias-Prediction/data/splits/media/train.tsv', sep='\\t')\n",
    "\n",
    "valid_media_split = pd.read_csv('./Article-Bias-Prediction/data/splits/media/valid.tsv', sep='\\t')\n",
    "\n",
    "test_media_split = pd.read_csv('./Article-Bias-Prediction/data/splits/media/test.tsv', sep='\\t')"
   ]
  },
  {
   "cell_type": "code",
   "execution_count": 52,
   "metadata": {},
   "outputs": [],
   "source": [
    "train_df = df.loc[train_media_split['ID']]\n",
    "valid_df = df.loc[valid_media_split['ID']]\n",
    "test_df = df.loc[test_media_split['ID']]"
   ]
  },
  {
   "cell_type": "code",
   "execution_count": 55,
   "metadata": {},
   "outputs": [
    {
     "data": {
      "text/plain": [
       "id\n",
       "zl7kc7EmAyIdUMIo    immigration\n",
       "xpbjYTJYPdlw6HmJ        culture\n",
       "k4SGI3GXarnz5dJl      elections\n",
       "0jIpietfnrPRGHKQ    white_house\n",
       "zMlSt7dyJvanHqJq       politics\n",
       "                       ...     \n",
       "GXYz0Td0RuvzCPbk    immigration\n",
       "3evIA5MtIVCSzmYK    middle_east\n",
       "E0IUo5gfHaEgzMOb    white_house\n",
       "40WIsjRfR0lCKcjf    coronavirus\n",
       "QefeiRX9myBBP9HH       politics\n",
       "Name: topic, Length: 26590, dtype: object"
      ]
     },
     "execution_count": 55,
     "metadata": {},
     "output_type": "execute_result"
    }
   ],
   "source": [
    "train_df['topic']"
   ]
  },
  {
   "cell_type": "code",
   "execution_count": 82,
   "metadata": {},
   "outputs": [],
   "source": [
    "from collections import Counter\n",
    "\n",
    "train_t = Counter(train_df['topic'])\n",
    "valid_t = Counter(valid_df['topic'])\n",
    "test_t = Counter(test_df['topic'])"
   ]
  },
  {
   "cell_type": "code",
   "execution_count": 89,
   "metadata": {},
   "outputs": [],
   "source": [
    "train_freq = {k: c / len(train_df) for k, c in train_t.items()}\n",
    "valid_freq = {k: c / len(valid_df) for k, c in valid_t.items()}\n",
    "test_freq = {k: c / len(test_df) for k, c in test_t.items()}"
   ]
  },
  {
   "cell_type": "code",
   "execution_count": 108,
   "metadata": {},
   "outputs": [],
   "source": [
    "import numpy as np\n",
    "def diff(f1, f2):\n",
    "    return [np.abs(f1[k] - f2.get(k, 0)) for k in f1.keys()]\n",
    "tr_te_diff = diff(train_freq, test_freq)"
   ]
  },
  {
   "cell_type": "code",
   "execution_count": 113,
   "metadata": {},
   "outputs": [
    {
     "data": {
      "text/plain": [
       "[('politics', 0.4091804322041253),\n",
       " ('elections', 0.1557352388115833),\n",
       " ('media_bias', 0.06921254375560507),\n",
       " ('race_and_racism', 0.06690890155350478),\n",
       " ('white_house', 0.05024445280180519),\n",
       " ('lgbt_rights', 0.04671420719183036),\n",
       " ('fbi', 0.043616744293690515),\n",
       " ('immigration', 0.04125611132004513),\n",
       " ('healthcare', 0.0397141782625047),\n",
       " ('middle_east', 0.025723956374576907),\n",
       " ('coronavirus', 0.02523505077096653),\n",
       " ('national_defense', 0.02269042728613996),\n",
       " ('federal_budget', 0.020238666936673703),\n",
       " ('us_senate', 0.020195562241444153),\n",
       " ('us_house', 0.01831515607371192),\n",
       " ('economy_and_jobs', 0.017863858593456187),\n",
       " ('violence_in_america', 0.01763820985332832),\n",
       " ('world', 0.015419330575404287),\n",
       " ('cybersecurity', 0.015039199236265805),\n",
       " ('us_congress', 0.014855208725084619),\n",
       " ('nuclear_weapons', 0.014799953713078948),\n",
       " ('gun_control_and_gun_rights', 0.014763213469494026),\n",
       " ('foreign_policy', 0.01421587062805566),\n",
       " ('national_security', 0.013388491914253479),\n",
       " ('terrorism', 0.0132380594208349),\n",
       " ('impeachment', 0.0104550582925912),\n",
       " ('education', 0.010122660340787454),\n",
       " ('environment', 0.009754390025168513),\n",
       " ('taxes', 0.009364422715306506),\n",
       " ('abortion', 0.009213990221887928),\n",
       " ('polarization', 0.008506378916307462),\n",
       " ('north_korea', 0.007747273411056788),\n",
       " ('general_news', 0.007634449040992855),\n",
       " ('trade', 0.007203691381953886),\n",
       " ('nsa', 0.006882286573899963),\n",
       " ('defense', 0.00661902971041745),\n",
       " ('free_speech', 0.006242948476871004),\n",
       " ('state_department', 0.006242948476871004),\n",
       " ('technology', 0.005866867243324558),\n",
       " ('democratic_party', 0.00571643474990598),\n",
       " ('supreme_court', 0.005245176034946626),\n",
       " ('fiscal_cliff', 0.005039488529522376),\n",
       " ('isis', 0.0050018804061677325),\n",
       " ('campaign_finance', 0.004964272282813088),\n",
       " ('religion_and_faith', 0.004889056036103798),\n",
       " ('justice', 0.004783174704197645),\n",
       " ('russia', 0.004701015419330576),\n",
       " ('economic_policy', 0.004550582925911997),\n",
       " ('civil_rights', 0.004400150432493419),\n",
       " ('palestine', 0.004218763560621402),\n",
       " ('republican_party', 0.00421587062805566),\n",
       " ('labor', 0.004194752220325745),\n",
       " ('culture', 0.004126768305030809),\n",
       " ('sexual_misconduct', 0.003911244828883039),\n",
       " ('holidays', 0.0037232042121098157),\n",
       " ('homeland_security', 0.0034599473486273034),\n",
       " ('europe', 0.003384731101918014),\n",
       " ('criminal_justice', 0.0030838661150808574),\n",
       " ('israel', 0.003046257991726213),\n",
       " ('china', 0.002971041745016924),\n",
       " ('marijuana_legalization', 0.0028206092515983454),\n",
       " ('voting_rights_and_voter_fraud', 0.002594960511470478),\n",
       " ('bridging_divides', 0.002594960511470478),\n",
       " ('ebola', 0.002557352388115833),\n",
       " ('energy', 0.002519744264761188),\n",
       " ('disaster', 0.0024069198946972546),\n",
       " ('sports', 0.00236931177134261),\n",
       " ('justice_department', 0.0023074030144357334),\n",
       " ('veterans_affairs', 0.0022188792779240314),\n",
       " ('facts_and_fact_checking', 0.0021436630312147422),\n",
       " ('opioid_crisis', 0.002099111869702317),\n",
       " ('treasury', 0.002058032227268783),\n",
       " ('business', 0.0020308386611508087),\n",
       " ('us_military', 0.002003645095032834),\n",
       " ('asia', 0.00188040616773223),\n",
       " (\"women's_issues\", 0.0017299736743136517),\n",
       " ('fake_news', 0.0017299736743136517),\n",
       " ('cia', 0.001692365550959007),\n",
       " ('transportation', 0.0016171493042497179),\n",
       " ('us_constitution', 0.0016171493042497179),\n",
       " ('tea_party', 0.0015795411808950733),\n",
       " ('role_of_government', 0.0013538924407672057),\n",
       " ('arts_and_entertainment', 0.0013538924407672057),\n",
       " ('great_britain', 0.0013058697601758909),\n",
       " ('campaign_rhetoric', 0.0012786761940579165),\n",
       " ('epa', 0.0011282437006393381),\n",
       " ('media_industry', 0.0010154193305754043),\n",
       " ('inequality', 0.0010154193305754043),\n",
       " ('mexico', 0.0008684583562357162),\n",
       " ('agriculture', 0.0008649868371568258),\n",
       " ('privacy', 0.0008273787138021812),\n",
       " ('banking_and_finance', 0.0008134926374866198),\n",
       " ('science', 0.0006769462203836029),\n",
       " ('domestic_policy', 0.0006769462203836029),\n",
       " ('food', 0.0006393380970289583),\n",
       " ('welfare', 0.0005641218503196691),\n",
       " ('social_security', 0.0005641218503196691),\n",
       " ('housing_and_homelessness', 0.0005265137269650245),\n",
       " ('south_korea', 0.0004512974802557352),\n",
       " ('africa', 0.0004512974802557352),\n",
       " ('death_penalty', 0.0004136893569010906),\n",
       " ('family_and_marriage', 0.000376081233546446),\n",
       " ('public_health', 0.000376081233546446),\n",
       " ('obesity_and_malnutrition', 0.00030086498683715683),\n",
       " ('animal_welfare', 0.00030086498683715683),\n",
       " ('fda', 0.00030086498683715683),\n",
       " ('capital_punishment_and_death_penalty', 0.0002256487401278676),\n",
       " ('dea', 0.0001128243700639338)]"
      ]
     },
     "execution_count": 113,
     "metadata": {},
     "output_type": "execute_result"
    }
   ],
   "source": [
    "sorted({k: np.abs(train_freq[k] - test_freq.get(k, 0)) for k in train_freq.keys()}.items(), key = lambda it: -it[1])"
   ]
  },
  {
   "cell_type": "code",
   "execution_count": 119,
   "metadata": {},
   "outputs": [
    {
     "data": {
      "text/plain": [
       "(0.07235802933433622, 0.4815384615384615, 0.1557352388115833)"
      ]
     },
     "execution_count": 119,
     "metadata": {},
     "output_type": "execute_result"
    }
   ],
   "source": [
    "train_freq['politics'], test_freq['politics'], train_freq['elections']"
   ]
  },
  {
   "cell_type": "code",
   "execution_count": 97,
   "metadata": {},
   "outputs": [],
   "source": [
    "train_topics = set(train_freq.keys())\n",
    "valid_topics = set(valid_freq.keys())\n",
    "test_topics = set(test_freq.keys())"
   ]
  },
  {
   "cell_type": "code",
   "execution_count": 104,
   "metadata": {},
   "outputs": [
    {
     "data": {
      "text/plain": [
       "(0, 6, 81, 0)"
      ]
     },
     "execution_count": 104,
     "metadata": {},
     "output_type": "execute_result"
    }
   ],
   "source": [
    "len(valid_topics - train_topics), len(train_topics - valid_topics), len(train_topics - test_topics), len(test_topics - train_topics)"
   ]
  },
  {
   "cell_type": "code",
   "execution_count": 92,
   "metadata": {},
   "outputs": [
    {
     "ename": "TypeError",
     "evalue": "unsupported operand type(s) for -: 'dict' and 'dict'",
     "output_type": "error",
     "traceback": [
      "\u001b[0;31m---------------------------------------------------------------------------\u001b[0m",
      "\u001b[0;31mTypeError\u001b[0m                                 Traceback (most recent call last)",
      "Cell \u001b[0;32mIn[92], line 1\u001b[0m\n\u001b[0;32m----> 1\u001b[0m valid_freq \u001b[39m-\u001b[39;49m train_freq\n",
      "\u001b[0;31mTypeError\u001b[0m: unsupported operand type(s) for -: 'dict' and 'dict'"
     ]
    }
   ],
   "source": [
    "valid_freq - train_freq"
   ]
  },
  {
   "cell_type": "code",
   "execution_count": 77,
   "metadata": {},
   "outputs": [
    {
     "data": {
      "text/plain": [
       "Counter({'media_bias': 133,\n",
       "         'culture': 5,\n",
       "         'federal_budget': 51,\n",
       "         'opioid_crisis': 4,\n",
       "         'politics': 626,\n",
       "         'education': 29,\n",
       "         'race_and_racism': 106,\n",
       "         'environment': 8,\n",
       "         'lgbt_rights': 73,\n",
       "         'fbi': 70,\n",
       "         'gun_control_and_gun_rights': 12,\n",
       "         'national_defense': 36,\n",
       "         'cybersecurity': 24,\n",
       "         'supreme_court': 21,\n",
       "         'labor': 10,\n",
       "         'justice_department': 14,\n",
       "         'us_military': 6,\n",
       "         'nuclear_weapons': 21,\n",
       "         'republican_party': 13,\n",
       "         'palestine': 7,\n",
       "         'polarization': 4,\n",
       "         'banking_and_finance': 8,\n",
       "         'great_britain': 6,\n",
       "         'justice': 4,\n",
       "         'trade': 1,\n",
       "         'treasury': 6,\n",
       "         'mexico': 2})"
      ]
     },
     "execution_count": 77,
     "metadata": {},
     "output_type": "execute_result"
    }
   ],
   "source": [
    "test_t"
   ]
  },
  {
   "cell_type": "code",
   "execution_count": 74,
   "metadata": {},
   "outputs": [
    {
     "data": {
      "text/plain": [
       "(Counter({'immigration': 1097,\n",
       "          'culture': 207,\n",
       "          'elections': 4141,\n",
       "          'white_house': 1336,\n",
       "          'politics': 1298,\n",
       "          'north_korea': 206,\n",
       "          'impeachment': 278,\n",
       "          'middle_east': 684,\n",
       "          'environment': 415,\n",
       "          'supreme_court': 548,\n",
       "          'nsa': 183,\n",
       "          'lgbt_rights': 178,\n",
       "          'free_speech': 166,\n",
       "          'media_bias': 747,\n",
       "          'world': 410,\n",
       "          'transportation': 43,\n",
       "          'ebola': 68,\n",
       "          'sports': 63,\n",
       "          'republican_party': 365,\n",
       "          'justice': 205,\n",
       "          'gun_control_and_gun_rights': 626,\n",
       "          'us_military': 170,\n",
       "          'democratic_party': 152,\n",
       "          'coronavirus': 671,\n",
       "          'economic_policy': 121,\n",
       "          'fbi': 202,\n",
       "          'business': 54,\n",
       "          'cybersecurity': 67,\n",
       "          'foreign_policy': 378,\n",
       "          'russia': 125,\n",
       "          'race_and_racism': 283,\n",
       "          'taxes': 249,\n",
       "          'polarization': 304,\n",
       "          'national_security': 356,\n",
       "          'role_of_government': 36,\n",
       "          'veterans_affairs': 59,\n",
       "          'healthcare': 1056,\n",
       "          'abortion': 245,\n",
       "          'education': 295,\n",
       "          'obesity_and_malnutrition': 8,\n",
       "          'economy_and_jobs': 475,\n",
       "          'trade': 211,\n",
       "          'energy': 67,\n",
       "          'voting_rights_and_voter_fraud': 69,\n",
       "          'homeland_security': 92,\n",
       "          'marijuana_legalization': 75,\n",
       "          'privacy': 22,\n",
       "          'us_senate': 537,\n",
       "          'agriculture': 23,\n",
       "          'terrorism': 352,\n",
       "          'us_congress': 395,\n",
       "          'isis': 133,\n",
       "          'bridging_divides': 69,\n",
       "          'europe': 90,\n",
       "          'violence_in_america': 469,\n",
       "          'us_house': 487,\n",
       "          'religion_and_faith': 130,\n",
       "          'national_defense': 97,\n",
       "          'justice_department': 211,\n",
       "          'holidays': 99,\n",
       "          'fiscal_cliff': 134,\n",
       "          'federal_budget': 454,\n",
       "          'israel': 81,\n",
       "          'civil_rights': 117,\n",
       "          'campaign_finance': 132,\n",
       "          'banking_and_finance': 134,\n",
       "          'general_news': 203,\n",
       "          'state_department': 166,\n",
       "          'sexual_misconduct': 104,\n",
       "          'treasury': 62,\n",
       "          'great_britain': 82,\n",
       "          'media_industry': 27,\n",
       "          'technology': 156,\n",
       "          'labor': 83,\n",
       "          'mexico': 62,\n",
       "          'epa': 30,\n",
       "          'china': 79,\n",
       "          'palestine': 24,\n",
       "          'nuclear_weapons': 15,\n",
       "          'facts_and_fact_checking': 57,\n",
       "          'defense': 176,\n",
       "          'science': 18,\n",
       "          'south_korea': 12,\n",
       "          'campaign_rhetoric': 34,\n",
       "          'disaster': 64,\n",
       "          'cia': 45,\n",
       "          'animal_welfare': 8,\n",
       "          'dea': 3,\n",
       "          'criminal_justice': 82,\n",
       "          'death_penalty': 11,\n",
       "          'asia': 50,\n",
       "          \"women's_issues\": 46,\n",
       "          'arts_and_entertainment': 36,\n",
       "          'welfare': 15,\n",
       "          'us_constitution': 43,\n",
       "          'tea_party': 42,\n",
       "          'opioid_crisis': 22,\n",
       "          'fake_news': 46,\n",
       "          'domestic_policy': 18,\n",
       "          'fda': 8,\n",
       "          'housing_and_homelessness': 14,\n",
       "          'family_and_marriage': 10,\n",
       "          'social_security': 15,\n",
       "          'inequality': 27,\n",
       "          'public_health': 10,\n",
       "          'africa': 12,\n",
       "          'food': 17,\n",
       "          'capital_punishment_and_death_penalty': 6}),\n",
       " Counter({'elections': 374,\n",
       "          'white_house': 132,\n",
       "          'healthcare': 85,\n",
       "          'transportation': 10,\n",
       "          'sexual_misconduct': 8,\n",
       "          'china': 30,\n",
       "          'middle_east': 65,\n",
       "          'economy_and_jobs': 70,\n",
       "          'us_military': 8,\n",
       "          'education': 2,\n",
       "          'immigration': 104,\n",
       "          'foreign_policy': 32,\n",
       "          'world': 22,\n",
       "          'violence_in_america': 23,\n",
       "          'role_of_government': 4,\n",
       "          'coronavirus': 78,\n",
       "          'campaign_rhetoric': 7,\n",
       "          'capital_punishment_and_death_penalty': 1,\n",
       "          'veterans_affairs': 3,\n",
       "          'national_security': 30,\n",
       "          'isis': 8,\n",
       "          'republican_party': 30,\n",
       "          'supreme_court': 39,\n",
       "          'banking_and_finance': 22,\n",
       "          'gun_control_and_gun_rights': 26,\n",
       "          'terrorism': 26,\n",
       "          'nsa': 21,\n",
       "          'impeachment': 34,\n",
       "          'privacy': 6,\n",
       "          'holidays': 7,\n",
       "          'fiscal_cliff': 18,\n",
       "          'us_senate': 31,\n",
       "          'justice_department': 7,\n",
       "          'environment': 32,\n",
       "          'culture': 11,\n",
       "          'polarization': 45,\n",
       "          'trade': 39,\n",
       "          'marijuana_legalization': 7,\n",
       "          'free_speech': 9,\n",
       "          'labor': 7,\n",
       "          'agriculture': 2,\n",
       "          'europe': 10,\n",
       "          'defense': 11,\n",
       "          'economic_policy': 20,\n",
       "          'taxes': 36,\n",
       "          'russia': 13,\n",
       "          'great_britain': 3,\n",
       "          'campaign_finance': 24,\n",
       "          'science': 2,\n",
       "          'democratic_party': 16,\n",
       "          'us_house': 24,\n",
       "          'abortion': 14,\n",
       "          'us_congress': 15,\n",
       "          'justice': 7,\n",
       "          'criminal_justice': 8,\n",
       "          'north_korea': 20,\n",
       "          'business': 18,\n",
       "          'voting_rights_and_voter_fraud': 6,\n",
       "          'energy': 5,\n",
       "          'housing_and_homelessness': 4,\n",
       "          'facts_and_fact_checking': 4,\n",
       "          'civil_rights': 7,\n",
       "          'israel': 10,\n",
       "          'us_constitution': 2,\n",
       "          'epa': 4,\n",
       "          'fda': 2,\n",
       "          'general_news': 11,\n",
       "          'food': 2,\n",
       "          'inequality': 4,\n",
       "          'technology': 16,\n",
       "          'religion_and_faith': 4,\n",
       "          'mexico': 4,\n",
       "          \"women's_issues\": 6,\n",
       "          'disaster': 3,\n",
       "          'fake_news': 7,\n",
       "          'state_department': 3,\n",
       "          'homeland_security': 5,\n",
       "          'sports': 2,\n",
       "          'cia': 9,\n",
       "          'animal_welfare': 2,\n",
       "          'arts_and_entertainment': 1,\n",
       "          'ebola': 5,\n",
       "          'death_penalty': 2,\n",
       "          'bridging_divides': 6,\n",
       "          'family_and_marriage': 1,\n",
       "          'domestic_policy': 3,\n",
       "          'asia': 3,\n",
       "          'dea': 1,\n",
       "          'media_industry': 1,\n",
       "          'public_health': 2}))"
      ]
     },
     "execution_count": 74,
     "metadata": {},
     "output_type": "execute_result"
    }
   ],
   "source": [
    "train_t - test_t, valid_t - test_t"
   ]
  }
 ],
 "metadata": {
  "kernelspec": {
   "display_name": "testenv",
   "language": "python",
   "name": "python3"
  },
  "language_info": {
   "codemirror_mode": {
    "name": "ipython",
    "version": 3
   },
   "file_extension": ".py",
   "mimetype": "text/x-python",
   "name": "python",
   "nbconvert_exporter": "python",
   "pygments_lexer": "ipython3",
   "version": "3.10.10"
  },
  "orig_nbformat": 4
 },
 "nbformat": 4,
 "nbformat_minor": 2
}
